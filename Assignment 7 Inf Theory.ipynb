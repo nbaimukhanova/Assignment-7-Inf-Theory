{
 "cells": [
  {
   "cell_type": "markdown",
   "metadata": {},
   "source": [
    "# Assignment 7 (Part 5 of the project)"
   ]
  },
  {
   "cell_type": "markdown",
   "metadata": {},
   "source": [
    "- Add errors to the binary sequence after Part 4 (Hamming code)\n",
    "- Decode Hamming code and fix errors"
   ]
  },
  {
   "cell_type": "markdown",
   "metadata": {},
   "source": [
    "Nuraina Baimukhanova & Zukhra Mazhitova\n"
   ]
  },
  {
   "cell_type": "markdown",
   "metadata": {},
   "source": [
    "## Part 1"
   ]
  },
  {
   "cell_type": "code",
   "execution_count": 1,
   "metadata": {},
   "outputs": [],
   "source": [
    "with open(\"sample.txt\", \"r\") as f:\n",
    "    input_file = f.read()"
   ]
  },
  {
   "cell_type": "code",
   "execution_count": 2,
   "metadata": {},
   "outputs": [],
   "source": [
    "with open(\"output1.txt\", \"r\") as f:\n",
    "    encoded1 = f.read()"
   ]
  },
  {
   "cell_type": "code",
   "execution_count": 3,
   "metadata": {},
   "outputs": [],
   "source": [
    "with open(\"output2.txt\", \"r\") as f:\n",
    "    encoded2 = f.read()"
   ]
  },
  {
   "cell_type": "code",
   "execution_count": 4,
   "metadata": {},
   "outputs": [],
   "source": [
    "a=''\n",
    "blocks=[]\n",
    "count=0\n",
    "while count<len(encoded1):\n",
    "    if len(a)<16:\n",
    "        a += encoded1[count]\n",
    "        count += 1\n",
    "    else:\n",
    "        blocks.append(a)\n",
    "        a = ''\n",
    "blocks.append(encoded1[(int(len(encoded1)/16-1)*16):])\n"
   ]
  },
  {
   "cell_type": "code",
   "execution_count": 5,
   "metadata": {},
   "outputs": [
    {
     "name": "stdout",
     "output_type": "stream",
     "text": [
      "Original file: 01011100110010100001001000011101101101110100011100001001011011111110001001111011110000111100110001101010101010010000001111000000\n",
      "Initial blocks:\n",
      "block 0 : 0101110011001010\n",
      "block 1 : 0001001000011101\n",
      "block 2 : 1011011101000111\n",
      "block 3 : 0000100101101111\n",
      "block 4 : 1110001001111011\n",
      "block 5 : 1100001111001100\n",
      "block 6 : 0110101010101001\n",
      "block 7 : 0000001111000000\n"
     ]
    }
   ],
   "source": [
    "print('Original file:',encoded1)\n",
    "print('Initial blocks:')\n",
    "for i in range(len(blocks)):\n",
    "    print('block',i,':',blocks[i])"
   ]
  },
  {
   "cell_type": "code",
   "execution_count": 6,
   "metadata": {},
   "outputs": [
    {
     "data": {
      "text/plain": [
       "21.0"
      ]
     },
     "execution_count": 6,
     "metadata": {},
     "output_type": "execute_result"
    }
   ],
   "source": [
    "len(encoded2)/8"
   ]
  },
  {
   "cell_type": "code",
   "execution_count": 7,
   "metadata": {},
   "outputs": [],
   "source": [
    "a=''\n",
    "blocks2=[]\n",
    "count=0\n",
    "while count<len(encoded2):\n",
    "    if len(a)<8:\n",
    "        a += encoded2[count]\n",
    "        count += 1\n",
    "    else:\n",
    "        blocks2.append(a)\n",
    "        a = ''\n",
    "blocks2.append(encoded2[(int(len(encoded2)/8-1)*8):])\n"
   ]
  },
  {
   "cell_type": "code",
   "execution_count": 8,
   "metadata": {},
   "outputs": [
    {
     "name": "stdout",
     "output_type": "stream",
     "text": [
      "Original file: 001111001001100110100101110011000000111100001111100101101100001111110000100101101111111110101010111111110110011000001111110000110000000010011001110011001001100100111100\n",
      "Initial blocks:\n",
      "block 0 : 00111100\n",
      "block 1 : 10011001\n",
      "block 2 : 10100101\n",
      "block 3 : 11001100\n",
      "block 4 : 00001111\n",
      "block 5 : 00001111\n",
      "block 6 : 10010110\n",
      "block 7 : 11000011\n",
      "block 8 : 11110000\n",
      "block 9 : 10010110\n",
      "block 10 : 11111111\n",
      "block 11 : 10101010\n",
      "block 12 : 11111111\n",
      "block 13 : 01100110\n",
      "block 14 : 00001111\n",
      "block 15 : 11000011\n",
      "block 16 : 00000000\n",
      "block 17 : 10011001\n",
      "block 18 : 11001100\n",
      "block 19 : 10011001\n",
      "block 20 : 00111100\n"
     ]
    }
   ],
   "source": [
    "print('Original file:',encoded2)\n",
    "print('Initial blocks:')\n",
    "for i in range(len(blocks2)):\n",
    "    print('block',i,':',blocks2[i])"
   ]
  },
  {
   "cell_type": "markdown",
   "metadata": {},
   "source": [
    "## Part 2"
   ]
  },
  {
   "cell_type": "code",
   "execution_count": 9,
   "metadata": {
    "scrolled": true
   },
   "outputs": [],
   "source": [
    "import random\n",
    "import numpy as np\n",
    "def ErrorGen(percent, blocks):\n",
    "    print('Original bitstring blocks:')\n",
    "    for i in blocks:\n",
    "        print(i)\n",
    "    print()\n",
    "    errored_blocks=[]\n",
    "    no_errored_blocks= int(len(blocks)*percent/100)\n",
    "    counter=0\n",
    "    while counter<no_errored_blocks:\n",
    "        er_idx=random.randint(0,len(blocks)-1)\n",
    "        if er_idx not in errored_blocks:\n",
    "            errored_blocks.append(er_idx)\n",
    "            counter+=1\n",
    "        else:\n",
    "            er_idx=random.randint(0,15)\n",
    "    print('Errored blocks:')\n",
    "    for i in errored_blocks:\n",
    "        idx = random.randint(0,len(blocks[i])-1)\n",
    "        if blocks[i][idx] == '0':\n",
    "            blocks[i]=blocks[i][:idx]+'1'+blocks[i][idx+1:]\n",
    "        else:\n",
    "            blocks[i]=blocks[i][:idx]+'0'+blocks[i][idx+1:]\n",
    "        print(blocks[i])\n",
    "    return blocks"
   ]
  },
  {
   "cell_type": "code",
   "execution_count": 10,
   "metadata": {},
   "outputs": [
    {
     "name": "stdout",
     "output_type": "stream",
     "text": [
      "Original bitstring blocks:\n",
      "0101110011001010\n",
      "0001001000011101\n",
      "1011011101000111\n",
      "0000100101101111\n",
      "1110001001111011\n",
      "1100001111001100\n",
      "0110101010101001\n",
      "0000001111000000\n",
      "\n",
      "Errored blocks:\n",
      "0010100101101111\n",
      "0011001000011101\n",
      "0110001001111011\n",
      "0000001011000000\n"
     ]
    },
    {
     "data": {
      "text/plain": [
       "['0101110011001010',\n",
       " '0011001000011101',\n",
       " '1011011101000111',\n",
       " '0010100101101111',\n",
       " '0110001001111011',\n",
       " '1100001111001100',\n",
       " '0110101010101001',\n",
       " '0000001011000000']"
      ]
     },
     "execution_count": 10,
     "metadata": {},
     "output_type": "execute_result"
    }
   ],
   "source": [
    "ErrorGen(50,blocks)"
   ]
  },
  {
   "cell_type": "code",
   "execution_count": 11,
   "metadata": {},
   "outputs": [
    {
     "data": {
      "text/plain": [
       "'1100100101010100011101111110001110001110111100101111011001110011000010010100100111'"
      ]
     },
     "execution_count": 11,
     "metadata": {},
     "output_type": "execute_result"
    }
   ],
   "source": [
    "input_file"
   ]
  },
  {
   "cell_type": "code",
   "execution_count": 12,
   "metadata": {},
   "outputs": [
    {
     "name": "stdout",
     "output_type": "stream",
     "text": [
      "Original bitstring blocks:\n",
      "00111100\n",
      "10011001\n",
      "10100101\n",
      "11001100\n",
      "00001111\n",
      "00001111\n",
      "10010110\n",
      "11000011\n",
      "11110000\n",
      "10010110\n",
      "11111111\n",
      "10101010\n",
      "11111111\n",
      "01100110\n",
      "00001111\n",
      "11000011\n",
      "00000000\n",
      "10011001\n",
      "11001100\n",
      "10011001\n",
      "00111100\n",
      "\n",
      "Errored blocks:\n",
      "01111111\n",
      "10111100\n"
     ]
    },
    {
     "data": {
      "text/plain": [
       "['10111100',\n",
       " '10011001',\n",
       " '10100101',\n",
       " '11001100',\n",
       " '00001111',\n",
       " '00001111',\n",
       " '10010110',\n",
       " '11000011',\n",
       " '11110000',\n",
       " '10010110',\n",
       " '11111111',\n",
       " '10101010',\n",
       " '01111111',\n",
       " '01100110',\n",
       " '00001111',\n",
       " '11000011',\n",
       " '00000000',\n",
       " '10011001',\n",
       " '11001100',\n",
       " '10011001',\n",
       " '00111100']"
      ]
     },
     "execution_count": 12,
     "metadata": {},
     "output_type": "execute_result"
    }
   ],
   "source": [
    "ErrorGen(10,blocks2)"
   ]
  },
  {
   "cell_type": "markdown",
   "metadata": {},
   "source": [
    "## Part 3"
   ]
  },
  {
   "cell_type": "code",
   "execution_count": 13,
   "metadata": {},
   "outputs": [],
   "source": [
    "def errorDetect(bitstring):\n",
    "    arr=[]\n",
    "    for i in bitstring:\n",
    "        arr.append(int(i))\n",
    "\n",
    "    arr = np.array(arr)\n",
    "\n",
    "    arr = np.matrix(arr.reshape(4,4))\n",
    "    num = 0\n",
    "    error = False\n",
    "    for i in np.array(arr[:, [1,3]]).flatten().tolist():\n",
    "        if i == 1:\n",
    "            num+=1\n",
    "    if arr[0,1] == 1:\n",
    "        num-=1\n",
    "    if num%2==1:\n",
    "        if arr[0,1] != 1:\n",
    "            error = True\n",
    "            \n",
    "    num = 0\n",
    "    error = False\n",
    "\n",
    "    for i in np.array(arr[:, [2,3]]).flatten().tolist():\n",
    "        if i == 1:\n",
    "            num+=1\n",
    "    if arr[0,2] == 1:\n",
    "        num-=1\n",
    "    if num%2==1:\n",
    "        if arr[0,2] != 1:\n",
    "            error = True\n",
    "            \n",
    "\n",
    "\n",
    "    num = 0\n",
    "    error = False\n",
    "    for i in np.array(arr[[1,3], :]).flatten().tolist():\n",
    "        if i == 1:\n",
    "            num+=1\n",
    "    if arr[1,0] == 1:\n",
    "        num-=1\n",
    "\n",
    "    if num%2==1:\n",
    "        if arr[1,0] != 1:\n",
    "            error = True\n",
    "            \n",
    "\n",
    "\n",
    "    num = 0\n",
    "    error = False\n",
    "\n",
    "    for i in np.array(arr[[2,3],: ]).flatten().tolist():\n",
    "        if i == 1:\n",
    "            num+=1\n",
    "    if arr[2,0] == 1:\n",
    "        num-=1\n",
    "    if num%2==1:\n",
    "        if arr[2,0] != 1:\n",
    "            error = True\n",
    "           \n",
    "\n",
    "    num = 0\n",
    "    error = False    \n",
    "\n",
    "    for i in np.array(arr).flatten().tolist():\n",
    "        if i == 1:\n",
    "            num+=1\n",
    "\n",
    "    if num%2==1:\n",
    "        if arr[0,0] != 1:\n",
    "            error = True\n",
    "            \n",
    "    if (error==True):\n",
    "        print('Errored bitstring:',bitstring)\n",
    "        print('')\n",
    "    return error"
   ]
  },
  {
   "cell_type": "code",
   "execution_count": 14,
   "metadata": {},
   "outputs": [
    {
     "name": "stdout",
     "output_type": "stream",
     "text": [
      "Errored bitstring: 0011001000011101\n",
      "\n",
      "Errored bitstring: 0010100101101111\n",
      "\n",
      "Errored bitstring: 0110001001111011\n",
      "\n",
      "Errored bitstring: 0000001011000000\n",
      "\n"
     ]
    }
   ],
   "source": [
    "for i in blocks:\n",
    "    errorDetect(i) \n"
   ]
  },
  {
   "cell_type": "code",
   "execution_count": 15,
   "metadata": {},
   "outputs": [],
   "source": [
    "def HammingDecode(bitstring):\n",
    "    print('Bitstring:',bitstring)\n",
    "    arr=[]\n",
    "    for i in bitstring:\n",
    "        arr.append(int(i))\n",
    "\n",
    "    arr = np.array(arr)\n",
    "    idxs=[]\n",
    "    for i in range(len(arr)):\n",
    "        if arr[i]==1:\n",
    "            idxs.append(i)\n",
    "    new=0\n",
    "    for i in idxs:\n",
    "        new^=i\n",
    "    if new != 0:\n",
    "        print('Error in position:',new)\n",
    "\n",
    "        if bitstring[new]=='1':\n",
    "            bitstring=bitstring[:new]+'0'+bitstring[new+1:]\n",
    "        else:\n",
    "            bitstring=bitstring[:new]+'1'+bitstring[new+1:]\n",
    "        print('Corrected bitstring:',bitstring)\n",
    "    else: \n",
    "        print('No error or error in position 0')\n",
    "    bitstring = bitstring[3:4]+bitstring[5:8]+bitstring[9:16]\n",
    "    print('Decoded bitstring:',bitstring)\n",
    "    print('')\n",
    "    return bitstring"
   ]
  },
  {
   "cell_type": "code",
   "execution_count": 16,
   "metadata": {},
   "outputs": [],
   "source": [
    "def HammingDecode2(bitstring):\n",
    "    print('Checking parity bits:')\n",
    "    arr2=[]\n",
    "    error=0\n",
    "    for i in bitstring:\n",
    "        arr2.append(int(i))\n",
    "    p1 = arr2[3]+ arr2[5]+arr2[7]\n",
    "    p2 = arr2[3]+ arr2[6]+arr2[7]\n",
    "    p3 = arr2[5]+ arr2[6]+arr2[7]\n",
    "    if p1%2==1:\n",
    "        p1 = 1\n",
    "    else: \n",
    "        p1 = 0\n",
    "    if p2%2==1:\n",
    "        p2 = 1\n",
    "    else: \n",
    "        p2 = 0\n",
    "    if p3%2==1:\n",
    "        p3 = 1\n",
    "    else: \n",
    "        p3 = 0\n",
    "    p0 = p1+p2+p3 +arr2[3] + arr2[5]+ arr2[6]+arr2[7] \n",
    "    if p0%2==1:\n",
    "        p0 = 1\n",
    "    else: \n",
    "        p0 = 0\n",
    "    if p1==arr2[1]:\n",
    "        print('p1:'+' b3+b5+b7 = ' + bitstring[3]+'+'+ bitstring[5]+'+'+bitstring[7]+' = '+str(p1)+' correct')\n",
    "    else:\n",
    "        print('p1:'+' b3+b5+b7 = ' + bitstring[3]+'+'+ bitstring[5]+'+'+bitstring[7]+' = '+str(p1)+' incorrect')\n",
    "        error+=1\n",
    "    if p2==arr2[2]:\n",
    "        print('p2:'+' b3+b6+b7 = ' + bitstring[3]+'+'+ bitstring[6]+'+'+bitstring[7] +' = '+str(p2)+' correct')\n",
    "    else:\n",
    "        print('p2:'+' b3+b6+b7 = ' + bitstring[3]+'+'+ bitstring[6]+'+'+bitstring[7] +' = '+str(p2)+' incorrect')\n",
    "        error+=1\n",
    "    if p3==arr2[4]:\n",
    "        print('p3:' +' b5+b6+b7 = '+ bitstring[5]+'+'+ bitstring[6]+'+'+bitstring[7] +' = '+str(p3)+' correct')\n",
    "    else:\n",
    "        print('p3:' +' b5+b6+b7 = '+ bitstring[5]+'+'+ bitstring[6]+'+'+bitstring[7] +' = '+str(p3)+' incorrect')\n",
    "        error+=1\n",
    "    if p0==arr2[0]:\n",
    "         print('p0:' + ' b1+b2+b3+b4+b5+b6+b7 = '+str(p1) +'+'+ str(p2)+'+' +  bitstring[3]+'+'+str(p3)+'+'+ bitstring[5]+'+'+bitstring[6] \n",
    "          +'+'+bitstring[7] +' = '+str(p0) +' correct')\n",
    "    else:\n",
    "        print('p0:' + ' b1+b2+b3+b4+b5+b6+b7 = '+str(p1) +'+'+ str(p2)+'+' +  bitstring[3]+'+'+str(p3)+'+'+ bitstring[5]+'+'+bitstring[6] \n",
    "          +'+'+bitstring[7] +' = '+str(p0) +' incorrect')\n",
    "        error+=1\n",
    "    if (error==0):\n",
    "        print('No error')\n",
    "    else:\n",
    "        pos=[]\n",
    "        for i in range(len(arr2)):\n",
    "            if arr2[i]==1:\n",
    "                pos.append(i)\n",
    "        idx=0\n",
    "        for i in pos:\n",
    "            idx^=i\n",
    "        if idx != -1:\n",
    "            print('Error in position:',idx)\n",
    "        bitstring= bitstring[:idx]+'1'+bitstring[idx+1:] if (bitstring[idx] == '0') else bitstring[:idx]+'0'+bitstring[idx+1:]\n",
    "        print('Corrected bitstring:',bitstring)\n",
    "    bitstring = bitstring[3]+ bitstring[5]+bitstring[6]+bitstring[7]\n",
    "    print(\"Decoded bitstring:\",bitstring)\n",
    "    print('\\n')\n",
    "    return bitstring\n",
    "        "
   ]
  },
  {
   "cell_type": "markdown",
   "metadata": {},
   "source": [
    "## Part 4"
   ]
  },
  {
   "cell_type": "code",
   "execution_count": 17,
   "metadata": {},
   "outputs": [
    {
     "name": "stdout",
     "output_type": "stream",
     "text": [
      "Bitstring: 0101110011001010\n",
      "No error or error in position 0\n",
      "Decoded bitstring: 11001001010\n",
      "\n",
      "Bitstring: 0011001000011101\n",
      "Error in position: 2\n",
      "Corrected bitstring: 0001001000011101\n",
      "Decoded bitstring: 10100011101\n",
      "\n",
      "Bitstring: 1011011101000111\n",
      "No error or error in position 0\n",
      "Decoded bitstring: 11111000111\n",
      "\n",
      "Bitstring: 0010100101101111\n",
      "Error in position: 2\n",
      "Corrected bitstring: 0000100101101111\n",
      "Decoded bitstring: 00011101111\n",
      "\n",
      "Bitstring: 0110001001111011\n",
      "No error or error in position 0\n",
      "Decoded bitstring: 00101111011\n",
      "\n",
      "Bitstring: 1100001111001100\n",
      "No error or error in position 0\n",
      "Decoded bitstring: 00111001100\n",
      "\n",
      "Bitstring: 0110101010101001\n",
      "No error or error in position 0\n",
      "Decoded bitstring: 00100101001\n",
      "\n",
      "Bitstring: 0000001011000000\n",
      "Error in position: 7\n",
      "Corrected bitstring: 0000001111000000\n",
      "Decoded bitstring: 00111000000\n",
      "\n"
     ]
    }
   ],
   "source": [
    "final_code = ''\n",
    "for i in blocks:\n",
    "    final_code+= HammingDecode(i)\n",
    "    "
   ]
  },
  {
   "cell_type": "code",
   "execution_count": 18,
   "metadata": {},
   "outputs": [
    {
     "name": "stdout",
     "output_type": "stream",
     "text": [
      "Block  0 : 10111100\n",
      "Checking parity bits:\n",
      "p1: b3+b5+b7 = 1+1+0 = 0 correct\n",
      "p2: b3+b6+b7 = 1+0+0 = 1 correct\n",
      "p3: b5+b6+b7 = 1+0+0 = 1 correct\n",
      "p0: b1+b2+b3+b4+b5+b6+b7 = 0+1+1+1+1+0+0 = 0 incorrect\n",
      "Error in position: 0\n",
      "Corrected bitstring: 00111100\n",
      "Decoded bitstring: 1100\n",
      "\n",
      "\n",
      "Block  1 : 10011001\n",
      "Checking parity bits:\n",
      "p1: b3+b5+b7 = 1+0+1 = 0 correct\n",
      "p2: b3+b6+b7 = 1+0+1 = 0 correct\n",
      "p3: b5+b6+b7 = 0+0+1 = 1 correct\n",
      "p0: b1+b2+b3+b4+b5+b6+b7 = 0+0+1+1+0+0+1 = 1 correct\n",
      "No error\n",
      "Decoded bitstring: 1001\n",
      "\n",
      "\n",
      "Block  2 : 10100101\n",
      "Checking parity bits:\n",
      "p1: b3+b5+b7 = 0+1+1 = 0 correct\n",
      "p2: b3+b6+b7 = 0+0+1 = 1 correct\n",
      "p3: b5+b6+b7 = 1+0+1 = 0 correct\n",
      "p0: b1+b2+b3+b4+b5+b6+b7 = 0+1+0+0+1+0+1 = 1 correct\n",
      "No error\n",
      "Decoded bitstring: 0101\n",
      "\n",
      "\n",
      "Block  3 : 11001100\n",
      "Checking parity bits:\n",
      "p1: b3+b5+b7 = 0+1+0 = 1 correct\n",
      "p2: b3+b6+b7 = 0+0+0 = 0 correct\n",
      "p3: b5+b6+b7 = 1+0+0 = 1 correct\n",
      "p0: b1+b2+b3+b4+b5+b6+b7 = 1+0+0+1+1+0+0 = 1 correct\n",
      "No error\n",
      "Decoded bitstring: 0100\n",
      "\n",
      "\n",
      "Block  4 : 00001111\n",
      "Checking parity bits:\n",
      "p1: b3+b5+b7 = 0+1+1 = 0 correct\n",
      "p2: b3+b6+b7 = 0+1+1 = 0 correct\n",
      "p3: b5+b6+b7 = 1+1+1 = 1 correct\n",
      "p0: b1+b2+b3+b4+b5+b6+b7 = 0+0+0+1+1+1+1 = 0 correct\n",
      "No error\n",
      "Decoded bitstring: 0111\n",
      "\n",
      "\n",
      "Block  5 : 00001111\n",
      "Checking parity bits:\n",
      "p1: b3+b5+b7 = 0+1+1 = 0 correct\n",
      "p2: b3+b6+b7 = 0+1+1 = 0 correct\n",
      "p3: b5+b6+b7 = 1+1+1 = 1 correct\n",
      "p0: b1+b2+b3+b4+b5+b6+b7 = 0+0+0+1+1+1+1 = 0 correct\n",
      "No error\n",
      "Decoded bitstring: 0111\n",
      "\n",
      "\n",
      "Block  6 : 10010110\n",
      "Checking parity bits:\n",
      "p1: b3+b5+b7 = 1+1+0 = 0 correct\n",
      "p2: b3+b6+b7 = 1+1+0 = 0 correct\n",
      "p3: b5+b6+b7 = 1+1+0 = 0 correct\n",
      "p0: b1+b2+b3+b4+b5+b6+b7 = 0+0+1+0+1+1+0 = 1 correct\n",
      "No error\n",
      "Decoded bitstring: 1110\n",
      "\n",
      "\n",
      "Block  7 : 11000011\n",
      "Checking parity bits:\n",
      "p1: b3+b5+b7 = 0+0+1 = 1 correct\n",
      "p2: b3+b6+b7 = 0+1+1 = 0 correct\n",
      "p3: b5+b6+b7 = 0+1+1 = 0 correct\n",
      "p0: b1+b2+b3+b4+b5+b6+b7 = 1+0+0+0+0+1+1 = 1 correct\n",
      "No error\n",
      "Decoded bitstring: 0011\n",
      "\n",
      "\n",
      "Block  8 : 11110000\n",
      "Checking parity bits:\n",
      "p1: b3+b5+b7 = 1+0+0 = 1 correct\n",
      "p2: b3+b6+b7 = 1+0+0 = 1 correct\n",
      "p3: b5+b6+b7 = 0+0+0 = 0 correct\n",
      "p0: b1+b2+b3+b4+b5+b6+b7 = 1+1+1+0+0+0+0 = 1 correct\n",
      "No error\n",
      "Decoded bitstring: 1000\n",
      "\n",
      "\n",
      "Block  9 : 10010110\n",
      "Checking parity bits:\n",
      "p1: b3+b5+b7 = 1+1+0 = 0 correct\n",
      "p2: b3+b6+b7 = 1+1+0 = 0 correct\n",
      "p3: b5+b6+b7 = 1+1+0 = 0 correct\n",
      "p0: b1+b2+b3+b4+b5+b6+b7 = 0+0+1+0+1+1+0 = 1 correct\n",
      "No error\n",
      "Decoded bitstring: 1110\n",
      "\n",
      "\n",
      "Block  10 : 11111111\n",
      "Checking parity bits:\n",
      "p1: b3+b5+b7 = 1+1+1 = 1 correct\n",
      "p2: b3+b6+b7 = 1+1+1 = 1 correct\n",
      "p3: b5+b6+b7 = 1+1+1 = 1 correct\n",
      "p0: b1+b2+b3+b4+b5+b6+b7 = 1+1+1+1+1+1+1 = 1 correct\n",
      "No error\n",
      "Decoded bitstring: 1111\n",
      "\n",
      "\n",
      "Block  11 : 10101010\n",
      "Checking parity bits:\n",
      "p1: b3+b5+b7 = 0+0+0 = 0 correct\n",
      "p2: b3+b6+b7 = 0+1+0 = 1 correct\n",
      "p3: b5+b6+b7 = 0+1+0 = 1 correct\n",
      "p0: b1+b2+b3+b4+b5+b6+b7 = 0+1+0+1+0+1+0 = 1 correct\n",
      "No error\n",
      "Decoded bitstring: 0010\n",
      "\n",
      "\n",
      "Block  12 : 01111111\n",
      "Checking parity bits:\n",
      "p1: b3+b5+b7 = 1+1+1 = 1 correct\n",
      "p2: b3+b6+b7 = 1+1+1 = 1 correct\n",
      "p3: b5+b6+b7 = 1+1+1 = 1 correct\n",
      "p0: b1+b2+b3+b4+b5+b6+b7 = 1+1+1+1+1+1+1 = 1 incorrect\n",
      "Error in position: 0\n",
      "Corrected bitstring: 11111111\n",
      "Decoded bitstring: 1111\n",
      "\n",
      "\n",
      "Block  13 : 01100110\n",
      "Checking parity bits:\n",
      "p1: b3+b5+b7 = 0+1+0 = 1 correct\n",
      "p2: b3+b6+b7 = 0+1+0 = 1 correct\n",
      "p3: b5+b6+b7 = 1+1+0 = 0 correct\n",
      "p0: b1+b2+b3+b4+b5+b6+b7 = 1+1+0+0+1+1+0 = 0 correct\n",
      "No error\n",
      "Decoded bitstring: 0110\n",
      "\n",
      "\n",
      "Block  14 : 00001111\n",
      "Checking parity bits:\n",
      "p1: b3+b5+b7 = 0+1+1 = 0 correct\n",
      "p2: b3+b6+b7 = 0+1+1 = 0 correct\n",
      "p3: b5+b6+b7 = 1+1+1 = 1 correct\n",
      "p0: b1+b2+b3+b4+b5+b6+b7 = 0+0+0+1+1+1+1 = 0 correct\n",
      "No error\n",
      "Decoded bitstring: 0111\n",
      "\n",
      "\n",
      "Block  15 : 11000011\n",
      "Checking parity bits:\n",
      "p1: b3+b5+b7 = 0+0+1 = 1 correct\n",
      "p2: b3+b6+b7 = 0+1+1 = 0 correct\n",
      "p3: b5+b6+b7 = 0+1+1 = 0 correct\n",
      "p0: b1+b2+b3+b4+b5+b6+b7 = 1+0+0+0+0+1+1 = 1 correct\n",
      "No error\n",
      "Decoded bitstring: 0011\n",
      "\n",
      "\n",
      "Block  16 : 00000000\n",
      "Checking parity bits:\n",
      "p1: b3+b5+b7 = 0+0+0 = 0 correct\n",
      "p2: b3+b6+b7 = 0+0+0 = 0 correct\n",
      "p3: b5+b6+b7 = 0+0+0 = 0 correct\n",
      "p0: b1+b2+b3+b4+b5+b6+b7 = 0+0+0+0+0+0+0 = 0 correct\n",
      "No error\n",
      "Decoded bitstring: 0000\n",
      "\n",
      "\n",
      "Block  17 : 10011001\n",
      "Checking parity bits:\n",
      "p1: b3+b5+b7 = 1+0+1 = 0 correct\n",
      "p2: b3+b6+b7 = 1+0+1 = 0 correct\n",
      "p3: b5+b6+b7 = 0+0+1 = 1 correct\n",
      "p0: b1+b2+b3+b4+b5+b6+b7 = 0+0+1+1+0+0+1 = 1 correct\n",
      "No error\n",
      "Decoded bitstring: 1001\n",
      "\n",
      "\n",
      "Block  18 : 11001100\n",
      "Checking parity bits:\n",
      "p1: b3+b5+b7 = 0+1+0 = 1 correct\n",
      "p2: b3+b6+b7 = 0+0+0 = 0 correct\n",
      "p3: b5+b6+b7 = 1+0+0 = 1 correct\n",
      "p0: b1+b2+b3+b4+b5+b6+b7 = 1+0+0+1+1+0+0 = 1 correct\n",
      "No error\n",
      "Decoded bitstring: 0100\n",
      "\n",
      "\n",
      "Block  19 : 10011001\n",
      "Checking parity bits:\n",
      "p1: b3+b5+b7 = 1+0+1 = 0 correct\n",
      "p2: b3+b6+b7 = 1+0+1 = 0 correct\n",
      "p3: b5+b6+b7 = 0+0+1 = 1 correct\n",
      "p0: b1+b2+b3+b4+b5+b6+b7 = 0+0+1+1+0+0+1 = 1 correct\n",
      "No error\n",
      "Decoded bitstring: 1001\n",
      "\n",
      "\n",
      "Block  20 : 00111100\n",
      "Checking parity bits:\n",
      "p1: b3+b5+b7 = 1+1+0 = 0 correct\n",
      "p2: b3+b6+b7 = 1+0+0 = 1 correct\n",
      "p3: b5+b6+b7 = 1+0+0 = 1 correct\n",
      "p0: b1+b2+b3+b4+b5+b6+b7 = 0+1+1+1+1+0+0 = 0 correct\n",
      "No error\n",
      "Decoded bitstring: 1100\n",
      "\n",
      "\n"
     ]
    }
   ],
   "source": [
    "final_code2 = ''\n",
    "for block,i in zip(blocks2,range(len(blocks2))):\n",
    "    print('Block ',i,':',block)\n",
    "    final_code2+=HammingDecode2(block)"
   ]
  },
  {
   "cell_type": "code",
   "execution_count": 19,
   "metadata": {},
   "outputs": [
    {
     "name": "stdout",
     "output_type": "stream",
     "text": [
      "1100100101010100011101111110001110001110111100101111011001110011000010010100100111000000\n",
      "110010010101010001110111111000111000111011110010111101100111001100001001010010011100\n",
      "1100100101010100011101111110001110001110111100101111011001110011000010010100100111\n"
     ]
    }
   ],
   "source": [
    "print(final_code)\n",
    "print(final_code2)\n",
    "print(input_file)"
   ]
  },
  {
   "cell_type": "markdown",
   "metadata": {},
   "source": [
    "## Part 5"
   ]
  },
  {
   "cell_type": "code",
   "execution_count": 20,
   "metadata": {},
   "outputs": [
    {
     "name": "stdout",
     "output_type": "stream",
     "text": [
      "Decoded sequence:\n",
      "1100100101010100011101111110001110001110111100101111011001110011000010010100100111\n",
      "Sequence from Assignment 3:\n",
      "1100100101010100011101111110001110001110111100101111011001110011000010010100100111\n",
      "They match\n"
     ]
    }
   ],
   "source": [
    "final_code=final_code[:len(input_file)]\n",
    "print('Decoded sequence:')\n",
    "print(final_code)\n",
    "print('Sequence from Assignment 3:')\n",
    "print(input_file)\n",
    "if final_code == input_file:\n",
    "    print('They match')"
   ]
  },
  {
   "cell_type": "code",
   "execution_count": 21,
   "metadata": {},
   "outputs": [
    {
     "name": "stdout",
     "output_type": "stream",
     "text": [
      "Decoded sequence:\n",
      "1100100101010100011101111110001110001110111100101111011001110011000010010100100111\n",
      "Sequence from Assignment 3:\n",
      "1100100101010100011101111110001110001110111100101111011001110011000010010100100111\n",
      "They match\n"
     ]
    }
   ],
   "source": [
    "final_code2=final_code2[:len(input_file)]\n",
    "print('Decoded sequence:')\n",
    "print(final_code2)\n",
    "print('Sequence from Assignment 3:')\n",
    "print(input_file)\n",
    "if final_code2 == input_file:\n",
    "    print('They match')"
   ]
  },
  {
   "cell_type": "code",
   "execution_count": 22,
   "metadata": {},
   "outputs": [],
   "source": [
    "file = open(\"decoded1.txt\", \"w\")\n",
    "file.write(final_code)\n",
    "file.close()"
   ]
  },
  {
   "cell_type": "code",
   "execution_count": 23,
   "metadata": {},
   "outputs": [],
   "source": [
    "file = open(\"decoded2.txt\", \"w\")\n",
    "file.write(final_code2)\n",
    "file.close()"
   ]
  },
  {
   "cell_type": "code",
   "execution_count": null,
   "metadata": {},
   "outputs": [],
   "source": []
  }
 ],
 "metadata": {
  "kernelspec": {
   "display_name": "Python 3",
   "language": "python",
   "name": "python3"
  },
  "language_info": {
   "codemirror_mode": {
    "name": "ipython",
    "version": 3
   },
   "file_extension": ".py",
   "mimetype": "text/x-python",
   "name": "python",
   "nbconvert_exporter": "python",
   "pygments_lexer": "ipython3",
   "version": "3.8.5"
  }
 },
 "nbformat": 4,
 "nbformat_minor": 4
}
